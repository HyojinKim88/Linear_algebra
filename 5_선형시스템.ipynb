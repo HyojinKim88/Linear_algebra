{
  "nbformat": 4,
  "nbformat_minor": 0,
  "metadata": {
    "colab": {
      "provenance": [],
      "authorship_tag": "ABX9TyPzUypmBbhavG1vUwBBnkkT",
      "include_colab_link": true
    },
    "kernelspec": {
      "name": "python3",
      "display_name": "Python 3"
    },
    "language_info": {
      "name": "python"
    }
  },
  "cells": [
    {
      "cell_type": "markdown",
      "metadata": {
        "id": "view-in-github",
        "colab_type": "text"
      },
      "source": [
        "<a href=\"https://colab.research.google.com/github/HyojinKim88/linear_algebra/blob/master/5_%EC%84%A0%ED%98%95%EC%8B%9C%EC%8A%A4%ED%85%9C.ipynb\" target=\"_parent\"><img src=\"https://colab.research.google.com/assets/colab-badge.svg\" alt=\"Open In Colab\"/></a>"
      ]
    },
    {
      "cell_type": "markdown",
      "source": [
        "# 선형 방정식\n",
        "- $a_1x + a_2y = b$ (1차 방정식)\n",
        "- 각 축이 선형방정식의 변수\n",
        "- 변수가 삼각함수, 지수함수, 제곱근, 변수끼리의 곱 형태이면 선형 방정식이 아님\n"
      ],
      "metadata": {
        "id": "w3cAlV4dAUHV"
      }
    },
    {
      "cell_type": "markdown",
      "source": [
        "# 선형 시스템 ( 연립 1차 방정식)\n",
        "- 선형 방정식이 다수 존재하는 경우\n",
        "- 의미 : xy평면 위에 존재하는 두 개의 직석\n",
        "<br>\n",
        "=> 일반화 : p개의 변수, n개의 방정식\n",
        "$$\n",
        "a_{11}x_1 + ... + a_{1p}x_p = b_1\\\\\n",
        "...\\\\\n",
        "a_{n1}x_1 + ... + a_{np}x_p = b_n\n",
        "$$"
      ],
      "metadata": {
        "id": "Fgj0Q4KZAx47"
      }
    },
    {
      "cell_type": "markdown",
      "source": [
        "- 선형 시스템의 상수부분만 모아서 행렬 형태로 만든 것 : 첨가 행렬(Argumented matrix)<br>\n",
        "- 첨가 행렬을 이용하여 해를 구할 수 있음."
      ],
      "metadata": {
        "id": "Tu_XXziYLc_u"
      }
    },
    {
      "cell_type": "markdown",
      "source": [
        "- 기본 행 연산(elementary row operation)\n",
        "1. 한 행에 영이 아닌 상수를 모두 곱한다\n",
        "2. 두 행을 교환한다\n",
        "3. 한 생의 배수를 다른 행에 더한다."
      ],
      "metadata": {
        "id": "u1PtGBD0Lxyv"
      }
    },
    {
      "cell_type": "markdown",
      "source": [
        "- 가우스 조르단 소거법\n",
        "  - 첨가 행렬을 기본 행 연산을 이용해 기약 가우스 행렬로 변형하여 해를 구함\n",
        "  - 한 번에 최종해가 나옴\n",
        "- 가우스 소거법\n",
        "  - 첨가 행렬을 가우스 행렬로 변환 후 해를 구함"
      ],
      "metadata": {
        "id": "XdIKV6Y8L_IJ"
      }
    },
    {
      "cell_type": "markdown",
      "source": [
        "# 동차 선형 시스템\n",
        "- 선형 시스템의 우변이 모두 0일 때.<br>\n",
        "$$\n",
        "a_{11}x_1 + ... + a_{1p}x_p = 0\\\\\n",
        "...\\\\\n",
        "a_{n1}x_1 + ... + a_{np}x_p = 0\n",
        "$$\n",
        "- 해가 존재하지 않는 경우가 없음(해가 적어도 하나 존재함)\n",
        "- 방정식의 개수(n) < 변수의 개수(p) => 무한개의 해"
      ],
      "metadata": {
        "id": "7M0GBISeM-sk"
      }
    },
    {
      "cell_type": "code",
      "execution_count": 2,
      "metadata": {
        "colab": {
          "base_uri": "https://localhost:8080/"
        },
        "id": "YYwoPkrSAQdL",
        "outputId": "40addcec-b024-483b-e276-ad2ff7c909c6"
      },
      "outputs": [
        {
          "output_type": "stream",
          "name": "stdout",
          "text": [
            "[[1.]\n",
            " [0.]\n",
            " [1.]]\n"
          ]
        }
      ],
      "source": [
        "import numpy as np\n",
        "\n",
        "x = np.array([[3,1,2],\n",
        "              [2,6,-1],\n",
        "              [4,0,-1]])\n",
        "y = np.array([[5],\n",
        "              [1],\n",
        "              [3]])\n",
        "\n",
        "sol = np.linalg.solve(x,y)\n",
        "print(sol)"
      ]
    },
    {
      "cell_type": "code",
      "source": [
        "x = np.array([[3,1,2],\n",
        "              [2,6,-1],\n",
        "              [4,0,-1]])\n",
        "y = np.array([[0],\n",
        "              [0],\n",
        "              [0]])\n",
        "\n",
        "sol = np.linalg.solve(x,y)\n",
        "print(sol)"
      ],
      "metadata": {
        "colab": {
          "base_uri": "https://localhost:8080/"
        },
        "id": "tPCUzjQMOb_U",
        "outputId": "608ad7d9-1198-48f6-f337-ffda118f410f"
      },
      "execution_count": 3,
      "outputs": [
        {
          "output_type": "stream",
          "name": "stdout",
          "text": [
            "[[0.]\n",
            " [0.]\n",
            " [0.]]\n"
          ]
        }
      ]
    }
  ]
}