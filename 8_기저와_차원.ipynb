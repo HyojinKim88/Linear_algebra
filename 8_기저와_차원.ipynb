{
  "nbformat": 4,
  "nbformat_minor": 0,
  "metadata": {
    "colab": {
      "provenance": [],
      "authorship_tag": "ABX9TyNz/tUGPifHspi3/f4egRaG",
      "include_colab_link": true
    },
    "kernelspec": {
      "name": "python3",
      "display_name": "Python 3"
    },
    "language_info": {
      "name": "python"
    }
  },
  "cells": [
    {
      "cell_type": "markdown",
      "metadata": {
        "id": "view-in-github",
        "colab_type": "text"
      },
      "source": [
        "<a href=\"https://colab.research.google.com/github/HyojinKim88/linear_algebra/blob/master/8_%EA%B8%B0%EC%A0%80%EC%99%80_%EC%B0%A8%EC%9B%90.ipynb\" target=\"_parent\"><img src=\"https://colab.research.google.com/assets/colab-badge.svg\" alt=\"Open In Colab\"/></a>"
      ]
    },
    {
      "cell_type": "markdown",
      "source": [
        "# 벡터 공간(vector space)\n",
        "- 벡터의 덧셈과 스칼라 곱이 정의된 공간 (다른 말로 선형 공간)\n",
        "- 길이나 각도가 정의되어 있지 않음. (정의되어 있는 곳은 내적공간)\n",
        "<br>\n",
        "- 어떤 공간의 좌표 축의 기본 벡터를 유닛벡터(unit vector)라고 함.\n",
        "  - 3차원 공간의 유닛벡터 : (1,0,0), (0,1,0),(0,0,1)\n",
        "- n차원 벡터는 유닛벡터의 선형 조합으로 나타낼 수 있음."
      ],
      "metadata": {
        "id": "xzO3_pffM5Es"
      }
    },
    {
      "cell_type": "markdown",
      "source": [
        "# 부분 공간(subspace)\n",
        "- 공간의 관계를 설명할 떄 스팬(span)이라는 개념을 사용함\n",
        "  - ex) 3차원의 전체 벡터공간 V가 있고, 2개의 기저벡터 집합을 S, S에 속하는 기저 벡터들로 구성되는 2차원 부분 공간을 W라고 하면<br>\n",
        "  => 기저 벡터 집합 S는 부분 공간 W를 span한다<br>\n",
        "  => W = span(S)"
      ],
      "metadata": {
        "id": "BlkL70X8OCK5"
      }
    },
    {
      "cell_type": "markdown",
      "source": [
        "# 선형 변환\n",
        "- 두 벡터 공간 사이의 함수\n",
        "- 벡터를 확대/축소/회전/반사시키는 것 모두 변환임\n",
        "  - 행렬$A$와 벡터$x$의 곱$Ax$는 벡터에 선형 변환 $A$를 취한 것임.\n",
        "- 기존 행렬을 변환시키는 것 뿐 아니라 다른 좌표 공간으로 이동시키는 것을 포함."
      ],
      "metadata": {
        "id": "IWYWCx7EPFVW"
      }
    },
    {
      "cell_type": "markdown",
      "source": [
        "# 선형 독립\n",
        "- 선형 조함 : $w = a_1u_1+ … + a_nu_n$ <br>\n",
        "  => 벡터 $w$는 벡터$u_1,...,u_n$의 선형 조합이다.\n",
        "- 선형 독립 : \n",
        "  - A가 벡터 공간 S 내 벡터들의 집합일 때, A에 속하는 벡터를 A에 속하는 다른 벡터들의 선형 조합으로 표현할 수 없을 때\n",
        "  - Ax=0의 해가 영벡터 밖에 없을 때\n",
        "- 선형 종속 : 특정 벡터를 다른 벡터의 선형 조합으로 표현할 수 있을 때\n",
        "  - Ax=0에 영벡터 아닌 해가 존재할 때"
      ],
      "metadata": {
        "id": "AvrYAymrP7CJ"
      }
    },
    {
      "cell_type": "markdown",
      "source": [
        "# 기저 ( basis)\n",
        "- 벡터 공간을 생성하는 선형 독립인 벡터들\n",
        "  - 만약 두 기저 벡터의 선형 조합이 종속적이라면 두 벡터가 span하는 공간은 1차원 직선임.\n",
        "- 기저의 조합으로 공간을 생성할 수 있음\n",
        "- 기저는 유일하지 않음."
      ],
      "metadata": {
        "id": "ESocPbnjRRkq"
      }
    },
    {
      "cell_type": "markdown",
      "source": [
        "## 기저의 조건\n",
        "1. n개의 기저 벡터가 n차원 공간을 생성함\n",
        "2. n개의 기저 벡터는 선형 독립 <=> 차원 내에 존재하는 모든 벡터는 오직 $a_1u_1+ … + a_nu_n$의 한 가지 형태로 표현할 수 있음\n",
        "\n",
        "<n차원 벡터 공간 S의 성질><br>\n",
        "- n개가 넘는 벡터가 만드는 집합은 선형 종속\n",
        "- n개 미만의 벡터가 만드는 집합은 공간 S를 생성할 수 없음\n",
        "- 벡터 공간의 모든 기저 벡터의 개수는 동일함"
      ],
      "metadata": {
        "id": "kQW6JBcGR7IX"
      }
    },
    {
      "cell_type": "markdown",
      "source": [
        "# 차원\n",
        "- 해당 공간을 구성하는 기저 벡터의 개수\n",
        "- 벡터 공간을 구성하는 데에 필요한 최소한의 벡터 개수"
      ],
      "metadata": {
        "id": "7hLzZ9Y-S1dw"
      }
    },
    {
      "cell_type": "markdown",
      "source": [
        "# 행공간(row spaces), 열공간(column spaces), 영공간(null space)\n",
        "- 행공간 : 행 벡터로 span할 수 있는 공간\n",
        "- 열공간 : 열 벡터로 span할 수 있는 공간\n",
        "- 영공간 : $Ax=0$을 만족하는 해(solution)공간 => 행렬$A$가 주어질 때 $Ax=0$을 만족하는 모든 벡터 $x$의 집합"
      ],
      "metadata": {
        "id": "jg797YKgS9V6"
      }
    },
    {
      "cell_type": "markdown",
      "source": [
        "## 성질\n",
        "- 기본 행 연산은 행렬의 영공간을 변화시키지 않는다.\n",
        "- 기본 행 연산은 행렬의 행공간을 변화시키지 않는다.\n",
        "- 행렬 $A$의 행공간과 열공간의 차원은 동일하다."
      ],
      "metadata": {
        "id": "4N_6HWGQUCk6"
      }
    },
    {
      "cell_type": "markdown",
      "source": [
        "# 랭크 (rank)\n",
        "- 열 벡터에 의해 span된 벡터 공간\n",
        "- full rank : 행렬의 랭크가 해당 행렬이 가질 수 있는 랭크 중 최대치일 때\n",
        "- nullity(A) : 행렬A의 영 공간의 차원"
      ],
      "metadata": {
        "id": "TeUGfpSDTu1Z"
      }
    },
    {
      "cell_type": "markdown",
      "source": [
        "## 성질\n",
        "- rank($A$) = dim($A$의 행공간) = dim($A^T$의 열공간) = rank($A^T$)\n",
        "- 행렬 A가 n개의 열을 가진 행렬일 때, rank($A$)+nullity($A$)=$n$\n",
        "  - 행렬 A를 구성하는 벡터 중 랭크만큼의 벡터가 서로 독립 <=> 랭크를 제외한 부분은 서로 선형 종속"
      ],
      "metadata": {
        "id": "jF4iON0JU5Qt"
      }
    }
  ]
}