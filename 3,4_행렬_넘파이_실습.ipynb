{
  "nbformat": 4,
  "nbformat_minor": 0,
  "metadata": {
    "colab": {
      "provenance": [],
      "authorship_tag": "ABX9TyOmCM8g1IBffFqTAsLBVhkO",
      "include_colab_link": true
    },
    "kernelspec": {
      "name": "python3",
      "display_name": "Python 3"
    },
    "language_info": {
      "name": "python"
    }
  },
  "cells": [
    {
      "cell_type": "markdown",
      "metadata": {
        "id": "view-in-github",
        "colab_type": "text"
      },
      "source": [
        "<a href=\"https://colab.research.google.com/github/HyojinKim88/linear_algebra/blob/master/3%2C4_%ED%96%89%EB%A0%AC_%EB%84%98%ED%8C%8C%EC%9D%B4_%EC%8B%A4%EC%8A%B5.ipynb\" target=\"_parent\"><img src=\"https://colab.research.google.com/assets/colab-badge.svg\" alt=\"Open In Colab\"/></a>"
      ]
    },
    {
      "cell_type": "code",
      "execution_count": 4,
      "metadata": {
        "id": "8Vtx2nWcldR6"
      },
      "outputs": [],
      "source": [
        "import numpy as np"
      ]
    },
    {
      "cell_type": "code",
      "source": [
        "A= np.array([[2,7],[3,4],[6,1]])\n",
        "B =np.array([[1,4],[4,-1],[2,5]])"
      ],
      "metadata": {
        "id": "VM7B5D78lihN"
      },
      "execution_count": 3,
      "outputs": []
    },
    {
      "cell_type": "markdown",
      "source": [
        "# 3. 행렬"
      ],
      "metadata": {
        "id": "TL4MoPBcpyne"
      }
    },
    {
      "cell_type": "code",
      "source": [
        "print(A+B)"
      ],
      "metadata": {
        "colab": {
          "base_uri": "https://localhost:8080/"
        },
        "id": "mCxLnQNJlv8t",
        "outputId": "96abd4ba-809a-4e3c-a50b-c78cfc546172"
      },
      "execution_count": 5,
      "outputs": [
        {
          "output_type": "stream",
          "name": "stdout",
          "text": [
            "[[ 3 11]\n",
            " [ 7  3]\n",
            " [ 8  6]]\n"
          ]
        }
      ]
    },
    {
      "cell_type": "code",
      "source": [
        "A+B"
      ],
      "metadata": {
        "colab": {
          "base_uri": "https://localhost:8080/"
        },
        "id": "i1YSYpSEl10e",
        "outputId": "fb37e785-438e-48c1-d8ee-5799560d55a6"
      },
      "execution_count": 6,
      "outputs": [
        {
          "output_type": "execute_result",
          "data": {
            "text/plain": [
              "array([[ 3, 11],\n",
              "       [ 7,  3],\n",
              "       [ 8,  6]])"
            ]
          },
          "metadata": {},
          "execution_count": 6
        }
      ]
    },
    {
      "cell_type": "code",
      "source": [
        "# 행렬의 원소곱 -> 두 행렬의 크기가 동일\n",
        "np.multiply(A,B)"
      ],
      "metadata": {
        "colab": {
          "base_uri": "https://localhost:8080/"
        },
        "id": "iphTntaRl-mv",
        "outputId": "d0f759d6-214e-45e7-fbd6-f0d41707838a"
      },
      "execution_count": 8,
      "outputs": [
        {
          "output_type": "execute_result",
          "data": {
            "text/plain": [
              "array([[ 2, 28],\n",
              "       [12, -4],\n",
              "       [12,  5]])"
            ]
          },
          "metadata": {},
          "execution_count": 8
        }
      ]
    },
    {
      "cell_type": "code",
      "source": [
        "# 행렬 곱 -> 한 행렬의 행길이, 다른 행렬의 열길이 같음\n",
        "np.matmul(A,B.T)"
      ],
      "metadata": {
        "colab": {
          "base_uri": "https://localhost:8080/"
        },
        "id": "cUIhv3gJmL38",
        "outputId": "257b72f5-7046-4da4-bb81-27a4acfd6362"
      },
      "execution_count": 10,
      "outputs": [
        {
          "output_type": "execute_result",
          "data": {
            "text/plain": [
              "array([[30,  1, 39],\n",
              "       [19,  8, 26],\n",
              "       [10, 23, 17]])"
            ]
          },
          "metadata": {},
          "execution_count": 10
        }
      ]
    },
    {
      "cell_type": "code",
      "source": [],
      "metadata": {
        "id": "_quDWu8nmVK0"
      },
      "execution_count": null,
      "outputs": []
    },
    {
      "cell_type": "markdown",
      "source": [
        "# 4. 다양한 행렬"
      ],
      "metadata": {
        "id": "1AFsRzNNp2Jh"
      }
    },
    {
      "cell_type": "markdown",
      "source": [
        "## 대칭 행렬\n",
        "- 대칭 행렬 간 덧셈, 뺄셈 -> 대칭 행렬\n",
        "- 대칭 행렬곱 -> 반드시 대칭은 아님\n",
        "- 대칭 행렬의 거듭 제곱 -> 대칭행렬\n",
        "\n",
        "- $AA^T$, $A^TA$ -> 대칭행렬 (A는 대칭행렬이 아니어도 됨)"
      ],
      "metadata": {
        "id": "ZepHUmyup4Zy"
      }
    },
    {
      "cell_type": "code",
      "source": [
        "# A는 대칭행렬\n",
        "A = np.array([[1,0,2],\n",
        "              [0,2,1],\n",
        "              [2,1,1]])"
      ],
      "metadata": {
        "id": "2GFB_wCEq2EO"
      },
      "execution_count": 11,
      "outputs": []
    },
    {
      "cell_type": "code",
      "source": [
        "At = A.T\n",
        "print(At)"
      ],
      "metadata": {
        "colab": {
          "base_uri": "https://localhost:8080/"
        },
        "id": "Jd9UKMDLq9YZ",
        "outputId": "7f57f063-fbf2-4a6c-c0d7-80034edf9ca1"
      },
      "execution_count": 13,
      "outputs": [
        {
          "output_type": "stream",
          "name": "stdout",
          "text": [
            "[[1 0 2]\n",
            " [0 2 1]\n",
            " [2 1 1]]\n"
          ]
        }
      ]
    },
    {
      "cell_type": "code",
      "source": [
        "A == At"
      ],
      "metadata": {
        "colab": {
          "base_uri": "https://localhost:8080/"
        },
        "id": "RKsJyqwNrGDa",
        "outputId": "11b8261a-c280-43b0-ddcc-42e839b6e7bd"
      },
      "execution_count": 14,
      "outputs": [
        {
          "output_type": "execute_result",
          "data": {
            "text/plain": [
              "array([[ True,  True,  True],\n",
              "       [ True,  True,  True],\n",
              "       [ True,  True,  True]])"
            ]
          },
          "metadata": {},
          "execution_count": 14
        }
      ]
    },
    {
      "cell_type": "code",
      "source": [
        "# 거듭 제곱 행렬\n",
        "AA = A\n",
        "for i in range(0,9):\n",
        "  AA = np.matmul(AA, A)\n",
        "  print(f\"행렬 A의 {i+2} 제곱은\")\n",
        "  print(AA)\n",
        "  print(\"---------------\")"
      ],
      "metadata": {
        "colab": {
          "base_uri": "https://localhost:8080/"
        },
        "id": "oCk1NbVArI01",
        "outputId": "756dc0d3-8140-4759-9190-ae49157d35a0"
      },
      "execution_count": 15,
      "outputs": [
        {
          "output_type": "stream",
          "name": "stdout",
          "text": [
            "행렬 A의 2 제곱은\n",
            "[[5 2 4]\n",
            " [2 5 3]\n",
            " [4 3 6]]\n",
            "---------------\n",
            "행렬 A의 3 제곱은\n",
            "[[13  8 16]\n",
            " [ 8 13 12]\n",
            " [16 12 17]]\n",
            "---------------\n",
            "행렬 A의 4 제곱은\n",
            "[[45 32 50]\n",
            " [32 38 41]\n",
            " [50 41 61]]\n",
            "---------------\n",
            "행렬 A의 5 제곱은\n",
            "[[145 114 172]\n",
            " [114 117 143]\n",
            " [172 143 202]]\n",
            "---------------\n",
            "행렬 A의 6 제곱은\n",
            "[[489 400 576]\n",
            " [400 377 488]\n",
            " [576 488 689]]\n",
            "---------------\n",
            "행렬 A의 7 제곱은\n",
            "[[1641 1376 1954]\n",
            " [1376 1242 1665]\n",
            " [1954 1665 2329]]\n",
            "---------------\n",
            "행렬 A의 8 제곱은\n",
            "[[5549 4706 6612]\n",
            " [4706 4149 5659]\n",
            " [6612 5659 7902]]\n",
            "---------------\n",
            "행렬 A의 9 제곱은\n",
            "[[18773 16024 22416]\n",
            " [16024 13957 19220]\n",
            " [22416 19220 26785]]\n",
            "---------------\n",
            "행렬 A의 10 제곱은\n",
            "[[63605 54464 75986]\n",
            " [54464 47134 65225]\n",
            " [75986 65225 90837]]\n",
            "---------------\n"
          ]
        }
      ]
    },
    {
      "cell_type": "code",
      "source": [
        "np.matmul(A, At)"
      ],
      "metadata": {
        "colab": {
          "base_uri": "https://localhost:8080/"
        },
        "id": "e2CJ17cermO3",
        "outputId": "3d88c2f5-54ef-4271-844e-d4308e0401f9"
      },
      "execution_count": 19,
      "outputs": [
        {
          "output_type": "execute_result",
          "data": {
            "text/plain": [
              "array([[5, 2, 4],\n",
              "       [2, 5, 3],\n",
              "       [4, 3, 6]])"
            ]
          },
          "metadata": {},
          "execution_count": 19
        }
      ]
    },
    {
      "cell_type": "code",
      "source": [
        "np.matmul(At, A)"
      ],
      "metadata": {
        "colab": {
          "base_uri": "https://localhost:8080/"
        },
        "id": "dV9fg12xrxyC",
        "outputId": "06f1fe02-753c-45da-9e2d-a77be76c8313"
      },
      "execution_count": 20,
      "outputs": [
        {
          "output_type": "execute_result",
          "data": {
            "text/plain": [
              "array([[5, 2, 4],\n",
              "       [2, 5, 3],\n",
              "       [4, 3, 6]])"
            ]
          },
          "metadata": {},
          "execution_count": 20
        }
      ]
    },
    {
      "cell_type": "code",
      "source": [],
      "metadata": {
        "id": "L8FjVhkAsHpx"
      },
      "execution_count": null,
      "outputs": []
    },
    {
      "cell_type": "markdown",
      "source": [
        "## 대각 행렬 D\n",
        "- 주대각 원소가 0이 아닌 행렬 (반드시 정방 행렬이 아니어도 됨)\n",
        "- $D^{-1}$ : 주 대각 원소의 역수\n",
        "- $D^n$ : 대각 원소에 n제곱"
      ],
      "metadata": {
        "id": "j7Zn6G0CsP7D"
      }
    },
    {
      "cell_type": "markdown",
      "source": [
        "### 대각 행렬의 성질\n",
        "- 기준 행렬의 오른쪽에 행렬곱 $AD$ -> 열 원소가 대각행렬의 배수\n",
        "- 기준 행렬의 왼쪽에 행렬곱 $DA$ -> 행 원소가 대각행렬의 배수"
      ],
      "metadata": {
        "id": "v1UZ9MAEs625"
      }
    },
    {
      "cell_type": "code",
      "source": [
        "A = np.array([[1,2,3],\n",
        "              [4,5,6],\n",
        "              [7,8,9]])\n",
        "D = np.diag(A)\n",
        "print(D)"
      ],
      "metadata": {
        "colab": {
          "base_uri": "https://localhost:8080/"
        },
        "id": "u4dZXk74uJ_z",
        "outputId": "a5c5427e-2349-4cef-f8cb-cc9fde0f3ba0"
      },
      "execution_count": 21,
      "outputs": [
        {
          "output_type": "stream",
          "name": "stdout",
          "text": [
            "[1 5 9]\n"
          ]
        }
      ]
    },
    {
      "cell_type": "code",
      "source": [
        "print(np.diag(D))"
      ],
      "metadata": {
        "colab": {
          "base_uri": "https://localhost:8080/"
        },
        "id": "0622xvmhuTmQ",
        "outputId": "db395608-6b75-4116-e74b-da67f13d71c7"
      },
      "execution_count": 22,
      "outputs": [
        {
          "output_type": "stream",
          "name": "stdout",
          "text": [
            "[[1 0 0]\n",
            " [0 5 0]\n",
            " [0 0 9]]\n"
          ]
        }
      ]
    },
    {
      "cell_type": "code",
      "source": [
        "D = np.diag([1,2,3])\n",
        "print(D)"
      ],
      "metadata": {
        "colab": {
          "base_uri": "https://localhost:8080/"
        },
        "id": "VhwYOqWguYb5",
        "outputId": "1ccbd390-6a12-432a-d493-a39cda5a91f9"
      },
      "execution_count": 23,
      "outputs": [
        {
          "output_type": "stream",
          "name": "stdout",
          "text": [
            "[[1 0 0]\n",
            " [0 2 0]\n",
            " [0 0 3]]\n"
          ]
        }
      ]
    },
    {
      "cell_type": "code",
      "source": [
        "print(A)"
      ],
      "metadata": {
        "colab": {
          "base_uri": "https://localhost:8080/"
        },
        "id": "w64X0-U2uuSZ",
        "outputId": "3b66c2ab-1093-4bfa-bd7c-1000a96b7ad0"
      },
      "execution_count": 25,
      "outputs": [
        {
          "output_type": "stream",
          "name": "stdout",
          "text": [
            "[[1 2 3]\n",
            " [4 5 6]\n",
            " [7 8 9]]\n"
          ]
        }
      ]
    },
    {
      "cell_type": "code",
      "source": [
        "AD = np.matmul(A,D)\n",
        "print(AD)"
      ],
      "metadata": {
        "colab": {
          "base_uri": "https://localhost:8080/"
        },
        "id": "731oowBOuliM",
        "outputId": "c20960f4-aa15-418f-eccb-04d5104eb29a"
      },
      "execution_count": 24,
      "outputs": [
        {
          "output_type": "stream",
          "name": "stdout",
          "text": [
            "[[ 1  4  9]\n",
            " [ 4 10 18]\n",
            " [ 7 16 27]]\n"
          ]
        }
      ]
    },
    {
      "cell_type": "code",
      "source": [
        "DA = np.matmul(D,A)\n",
        "print(DA)"
      ],
      "metadata": {
        "colab": {
          "base_uri": "https://localhost:8080/"
        },
        "id": "PKdb78IQurlU",
        "outputId": "7bceb67f-788e-496e-c04f-c4300dbba33b"
      },
      "execution_count": 27,
      "outputs": [
        {
          "output_type": "stream",
          "name": "stdout",
          "text": [
            "[[ 1  2  3]\n",
            " [ 8 10 12]\n",
            " [21 24 27]]\n"
          ]
        }
      ]
    },
    {
      "cell_type": "markdown",
      "source": [
        "## 단위 행렬 I\n",
        "- 주 대각 원소가 1이고 나머지는 모두 0인 행렬\n",
        "- 성질\n",
        "  - $AI = IA = A$"
      ],
      "metadata": {
        "id": "ovh_kayyu2zO"
      }
    },
    {
      "cell_type": "code",
      "source": [
        "np.eye(3)"
      ],
      "metadata": {
        "colab": {
          "base_uri": "https://localhost:8080/"
        },
        "id": "zIUS81ituz4X",
        "outputId": "76c33b12-2abd-45ef-d2c7-eb06a36033ae"
      },
      "execution_count": 28,
      "outputs": [
        {
          "output_type": "execute_result",
          "data": {
            "text/plain": [
              "array([[1., 0., 0.],\n",
              "       [0., 1., 0.],\n",
              "       [0., 0., 1.]])"
            ]
          },
          "metadata": {},
          "execution_count": 28
        }
      ]
    },
    {
      "cell_type": "code",
      "source": [
        "np.identity(3)"
      ],
      "metadata": {
        "colab": {
          "base_uri": "https://localhost:8080/"
        },
        "id": "AG3O8H5mvrkP",
        "outputId": "323766d6-2e16-4fde-d9d0-bc42918af524"
      },
      "execution_count": 29,
      "outputs": [
        {
          "output_type": "execute_result",
          "data": {
            "text/plain": [
              "array([[1., 0., 0.],\n",
              "       [0., 1., 0.],\n",
              "       [0., 0., 1.]])"
            ]
          },
          "metadata": {},
          "execution_count": 29
        }
      ]
    },
    {
      "cell_type": "markdown",
      "source": [
        "## 영행렬"
      ],
      "metadata": {
        "id": "7rqa4Roov8T5"
      }
    },
    {
      "cell_type": "code",
      "source": [
        "np.zeros((3,2))"
      ],
      "metadata": {
        "colab": {
          "base_uri": "https://localhost:8080/"
        },
        "id": "qM4X6l8EvuPQ",
        "outputId": "9b6c8b32-6472-44a3-e33b-2c810e9f2e0f"
      },
      "execution_count": 31,
      "outputs": [
        {
          "output_type": "execute_result",
          "data": {
            "text/plain": [
              "array([[0., 0.],\n",
              "       [0., 0.],\n",
              "       [0., 0.]])"
            ]
          },
          "metadata": {},
          "execution_count": 31
        }
      ]
    },
    {
      "cell_type": "markdown",
      "source": [
        "## 삼각행렬\n",
        "- 상삼각행렬, 하삼각행렬\n",
        "- 성질\n",
        "  - 삼각 행렬 간 덧셈, 뺄셈, 행렬곱의 결과는 삼각행렬\n",
        "  - 상 삼각 행렬의 전치 행렬 : 하삼각행렬\n",
        "  - 삼각 행렬의 역행렬도 삼각 행렬"
      ],
      "metadata": {
        "id": "YEG9lzsOwIZY"
      }
    },
    {
      "cell_type": "code",
      "source": [
        " A = np.array([[1,2,3],\n",
        "               [4,5,6],\n",
        "               [7,8,9]])"
      ],
      "metadata": {
        "id": "E0ioyd0SwEH9"
      },
      "execution_count": 5,
      "outputs": []
    },
    {
      "cell_type": "code",
      "source": [
        "np.triu(A)"
      ],
      "metadata": {
        "colab": {
          "base_uri": "https://localhost:8080/"
        },
        "id": "8GYzU_pOTEgS",
        "outputId": "192cc97f-abc3-418b-8ef9-26128887785b"
      },
      "execution_count": 6,
      "outputs": [
        {
          "output_type": "execute_result",
          "data": {
            "text/plain": [
              "array([[1, 2, 3],\n",
              "       [0, 5, 6],\n",
              "       [0, 0, 9]])"
            ]
          },
          "metadata": {},
          "execution_count": 6
        }
      ]
    },
    {
      "cell_type": "code",
      "source": [
        "np.tril(A)"
      ],
      "metadata": {
        "colab": {
          "base_uri": "https://localhost:8080/"
        },
        "id": "JnQzm4lfTI_y",
        "outputId": "88f7f4da-f675-4686-ad26-1d273eab5626"
      },
      "execution_count": 7,
      "outputs": [
        {
          "output_type": "execute_result",
          "data": {
            "text/plain": [
              "array([[1, 0, 0],\n",
              "       [4, 5, 0],\n",
              "       [7, 8, 9]])"
            ]
          },
          "metadata": {},
          "execution_count": 7
        }
      ]
    },
    {
      "cell_type": "markdown",
      "source": [
        "## 토플리츠 행렬\n",
        "- 시계열 분석에 자주 사용됨 : 시점에 따라 값이 나열된 형태\n",
        "- $T_{i,j} = T_{i+1, j+1} = t_{i-j}$"
      ],
      "metadata": {
        "id": "OcLdHwZDTRg5"
      }
    },
    {
      "cell_type": "code",
      "source": [
        "from scipy.linalg import toeplitz #넘파이에서는 제공 X"
      ],
      "metadata": {
        "id": "U2QoP9HuTc_j"
      },
      "execution_count": 8,
      "outputs": []
    },
    {
      "cell_type": "markdown",
      "source": [
        "만드는 법<br>\n",
        "1행은  [1,3,5,7,9]부터 시작<br>\n",
        "1행의 원소는 우하향, 한 칸씩 이동<br>\n",
        "빈 칸부터 [1,0,-2,-4]가 순서대로 채워지며 역시 우하향, 한 칸씩 이동<br>"
      ],
      "metadata": {
        "id": "C3fq4BUaU2qb"
      }
    },
    {
      "cell_type": "code",
      "source": [
        "A = toeplitz([1,0,-2,-4],\n",
        "             [1,3,5,7,9])\n",
        "print(A)\n",
        "# toeplitz() takes from 1 to 2 positional arguments"
      ],
      "metadata": {
        "colab": {
          "base_uri": "https://localhost:8080/"
        },
        "id": "8OjkANVHTlVK",
        "outputId": "5d7b2fc3-7d09-40e7-ff63-84f8be12fbee"
      },
      "execution_count": 9,
      "outputs": [
        {
          "output_type": "stream",
          "name": "stdout",
          "text": [
            "[[ 1  3  5  7  9]\n",
            " [ 0  1  3  5  7]\n",
            " [-2  0  1  3  5]\n",
            " [-4 -2  0  1  3]]\n"
          ]
        }
      ]
    },
    {
      "cell_type": "markdown",
      "source": [
        "## 이중 대각 행렬\n",
        "대각원소의 바로 위 또는 아래 원소가 0이 아닌 행렬\n",
        "- upper bidiagonal matrix\n",
        "- lower bidiagonal matrix"
      ],
      "metadata": {
        "id": "Qn75jv5YVv_g"
      }
    },
    {
      "cell_type": "code",
      "source": [
        "A = np.array([[1,2,3],\n",
        "              [4,5,6],\n",
        "              [7,8,9]])\n",
        "diag = np.diag(A)\n",
        "print(diag)"
      ],
      "metadata": {
        "colab": {
          "base_uri": "https://localhost:8080/"
        },
        "id": "ioOhRD0uVamR",
        "outputId": "687b1e8b-5647-499c-fedc-f85b01bc8921"
      },
      "execution_count": 14,
      "outputs": [
        {
          "output_type": "stream",
          "name": "stdout",
          "text": [
            "[1 5 9]\n"
          ]
        }
      ]
    },
    {
      "cell_type": "code",
      "source": [
        "np.diag(diag)"
      ],
      "metadata": {
        "colab": {
          "base_uri": "https://localhost:8080/"
        },
        "id": "9U_AffuiWe8b",
        "outputId": "f25492ea-8554-4e85-8d8b-7d0c9f25185c"
      },
      "execution_count": 15,
      "outputs": [
        {
          "output_type": "execute_result",
          "data": {
            "text/plain": [
              "array([[1, 0, 0],\n",
              "       [0, 5, 0],\n",
              "       [0, 0, 9]])"
            ]
          },
          "metadata": {},
          "execution_count": 15
        }
      ]
    },
    {
      "cell_type": "code",
      "source": [
        "np.diag(diag, k=1) #k=1 : 대각원소 1칸 위에 있는 원소를 추출한다. / k=-1 : 대각원소 1칸 아래의 원소를 추출"
      ],
      "metadata": {
        "colab": {
          "base_uri": "https://localhost:8080/"
        },
        "id": "Ysc90JcFWkcA",
        "outputId": "d6cc7401-c124-4481-a328-adacaa96d8d0"
      },
      "execution_count": 16,
      "outputs": [
        {
          "output_type": "execute_result",
          "data": {
            "text/plain": [
              "array([[0, 1, 0, 0],\n",
              "       [0, 0, 5, 0],\n",
              "       [0, 0, 0, 9],\n",
              "       [0, 0, 0, 0]])"
            ]
          },
          "metadata": {},
          "execution_count": 16
        }
      ]
    },
    {
      "cell_type": "code",
      "source": [
        "u_diag = np.diag(A, k=1)\n",
        "print(u_diag)"
      ],
      "metadata": {
        "colab": {
          "base_uri": "https://localhost:8080/"
        },
        "id": "9A-Od15aXT2H",
        "outputId": "4c7ac364-e546-439a-c92a-56a6a398433b"
      },
      "execution_count": 19,
      "outputs": [
        {
          "output_type": "stream",
          "name": "stdout",
          "text": [
            "[2 6]\n"
          ]
        }
      ]
    },
    {
      "cell_type": "code",
      "source": [
        "# upper bidiagonal matrix\n",
        "np.diag(diag) + np.diag(u_diag, k=1)"
      ],
      "metadata": {
        "colab": {
          "base_uri": "https://localhost:8080/"
        },
        "id": "qnOK5MNkWt_R",
        "outputId": "fbb14941-d55b-4a10-d2dc-6be33f1a10fd"
      },
      "execution_count": 20,
      "outputs": [
        {
          "output_type": "execute_result",
          "data": {
            "text/plain": [
              "array([[1, 2, 0],\n",
              "       [0, 5, 6],\n",
              "       [0, 0, 9]])"
            ]
          },
          "metadata": {},
          "execution_count": 20
        }
      ]
    },
    {
      "cell_type": "markdown",
      "source": [
        "## 하우스홀더 행렬 H\n",
        "- 어떤 행렬을 다른 행렬로 변환할 때 사용하는 행렬 중 하나.\n",
        "- 정사각 행렬, 모든 열이 정규 직교(orthonomal)\n",
        "- 벡터 $v$, 단위 행렬$I$를 이용해 구함\n",
        "- $ H = I - 2 * vv^T/v^Tv$\n",
        "\n",
        "\n"
      ],
      "metadata": {
        "id": "qHvl_oLWYZ4H"
      }
    },
    {
      "cell_type": "code",
      "source": [
        "v = np.array([1,0,2,3])"
      ],
      "metadata": {
        "id": "a0NiQbK3XD8C"
      },
      "execution_count": 21,
      "outputs": []
    },
    {
      "cell_type": "code",
      "source": [
        "n=len(v)\n",
        "print(n)"
      ],
      "metadata": {
        "colab": {
          "base_uri": "https://localhost:8080/"
        },
        "id": "WID99QGqZrcs",
        "outputId": "22f791bd-855a-44cc-c5af-efb6a3b1f36d"
      },
      "execution_count": 22,
      "outputs": [
        {
          "output_type": "stream",
          "name": "stdout",
          "text": [
            "4\n"
          ]
        }
      ]
    },
    {
      "cell_type": "code",
      "source": [
        "# 외적 : v*v^T\n",
        "outer_mat = np.outer(v,v) \n",
        "print(outer_mat)"
      ],
      "metadata": {
        "colab": {
          "base_uri": "https://localhost:8080/"
        },
        "id": "O4UHFsoMZw0R",
        "outputId": "3ddec845-ee4c-4089-c393-60656d1f55e0"
      },
      "execution_count": 23,
      "outputs": [
        {
          "output_type": "stream",
          "name": "stdout",
          "text": [
            "[[1 0 2 3]\n",
            " [0 0 0 0]\n",
            " [2 0 4 6]\n",
            " [3 0 6 9]]\n"
          ]
        }
      ]
    },
    {
      "cell_type": "code",
      "source": [
        "# 내적 : v^T*v\n",
        "inner_val = np.inner(v,v)\n",
        "print(inner_val)"
      ],
      "metadata": {
        "colab": {
          "base_uri": "https://localhost:8080/"
        },
        "id": "kxR92ddfZ7xU",
        "outputId": "cc2f538e-6bbf-49fc-e2e5-a3a2a47e4b49"
      },
      "execution_count": 24,
      "outputs": [
        {
          "output_type": "stream",
          "name": "stdout",
          "text": [
            "14\n"
          ]
        }
      ]
    },
    {
      "cell_type": "code",
      "source": [
        "I = np.eye(n)\n",
        "I"
      ],
      "metadata": {
        "colab": {
          "base_uri": "https://localhost:8080/"
        },
        "id": "RigAteQNaVxX",
        "outputId": "e817c54b-3848-44de-9345-cb0d73d6d8f6"
      },
      "execution_count": 26,
      "outputs": [
        {
          "output_type": "execute_result",
          "data": {
            "text/plain": [
              "array([[1., 0., 0., 0.],\n",
              "       [0., 1., 0., 0.],\n",
              "       [0., 0., 1., 0.],\n",
              "       [0., 0., 0., 1.]])"
            ]
          },
          "metadata": {},
          "execution_count": 26
        }
      ]
    },
    {
      "cell_type": "code",
      "source": [
        "H = I -(2 / inner_val)*outer_mat\n",
        "H"
      ],
      "metadata": {
        "colab": {
          "base_uri": "https://localhost:8080/"
        },
        "id": "a0CyOWrpaZg4",
        "outputId": "1e7842fc-14a5-441b-d50f-57d2991010b5"
      },
      "execution_count": 27,
      "outputs": [
        {
          "output_type": "execute_result",
          "data": {
            "text/plain": [
              "array([[ 0.85714286,  0.        , -0.28571429, -0.42857143],\n",
              "       [ 0.        ,  1.        ,  0.        ,  0.        ],\n",
              "       [-0.28571429,  0.        ,  0.42857143, -0.85714286],\n",
              "       [-0.42857143,  0.        , -0.85714286, -0.28571429]])"
            ]
          },
          "metadata": {},
          "execution_count": 27
        }
      ]
    },
    {
      "cell_type": "code",
      "source": [],
      "metadata": {
        "id": "GYVXHwBSahr6"
      },
      "execution_count": null,
      "outputs": []
    }
  ]
}